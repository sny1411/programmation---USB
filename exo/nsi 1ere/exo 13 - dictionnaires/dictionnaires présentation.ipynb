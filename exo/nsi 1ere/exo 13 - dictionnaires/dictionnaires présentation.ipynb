{
 "cells": [
  {
   "cell_type": "markdown",
   "metadata": {},
   "source": [
    "# Pourquoi des dictionnaires ?\n",
    "\n",
    "Les listes sont une structure de données modifiable qui permet de représenter une suite ordonnée d'éléments. \n",
    "Mais pour un certain nombre de situations, la notion d'indice n'est pas pertinente.\n",
    "\n",
    "Par exemple, pour représenter un élève de 1ère, on pourrait avoir envie de conserver : \n",
    "\n",
    "* son nom,\n",
    "* son prénom,\n",
    "* sa classe,\n",
    "* ses trois spécialités\n",
    "* sa moyenne générale à chaque trimestre\n",
    "\n",
    "Si on utilise une liste pour représenter un élève, on aurait :"
   ]
  },
  {
   "cell_type": "code",
   "execution_count": 14,
   "metadata": {},
   "outputs": [],
   "source": [
    "anissa=['Kaczmarek', 'Anissa', '1F', ['nsi', 'mathématiques', 'SVT'],\n",
    "        [15, 16.8, 15.3]]"
   ]
  },
  {
   "cell_type": "code",
   "execution_count": 15,
   "metadata": {},
   "outputs": [],
   "source": [
    "kevin = [\"Dupont\", \"Kévin\", \"1G\", [\"SVT\", \"mathématiques\", \"physique\"],\n",
    "         [8.9, 10.3, 9.8]]"
   ]
  },
  {
   "cell_type": "code",
   "execution_count": 16,
   "metadata": {},
   "outputs": [],
   "source": [
    "les_eleves = [anissa, kevin]  ## et sûrement beaucoup d'autres \n"
   ]
  },
  {
   "cell_type": "code",
   "execution_count": 17,
   "metadata": {},
   "outputs": [
    {
     "output_type": "execute_result",
     "data": {
      "text/plain": [
       "[['Kaczmarek',\n",
       "  'Anissa',\n",
       "  '1F',\n",
       "  ['nsi', 'mathématiques', 'SVT'],\n",
       "  [15, 16.8, 15.3]],\n",
       " ['Dupont',\n",
       "  'Kévin',\n",
       "  '1G',\n",
       "  ['SVT', 'mathématiques', 'physique'],\n",
       "  [8.9, 10.3, 9.8]]]"
      ]
     },
     "metadata": {},
     "execution_count": 17
    }
   ],
   "source": [
    "les_eleves"
   ]
  },
  {
   "cell_type": "markdown",
   "metadata": {},
   "source": [
    "Suppoons qu'on veuille écrire maintenant une fonction qui retourne la listes des élèves (nom et prénom sous forme d'une chaîne de caractères) qui ont choisi une certaine spécialité :"
   ]
  },
  {
   "cell_type": "code",
   "execution_count": 18,
   "metadata": {},
   "outputs": [],
   "source": [
    "def eleves_specialite(spec, les_elvs) :\n",
    "    \"\"\" retourne la liste des noms et prénoms des élèves qui ont choisi la spécialité spec.\n",
    "    param spec : str - la spécialité\n",
    "    param les_elvs : list(eleve)\n",
    "    avec eleve de type liste : str, str, str, list(str), list(nombre)\n",
    "    return : list(str)\n",
    "    \"\"\"\n",
    "    res = []\n",
    "    for eleve in les_elvs:\n",
    "        if spec in eleve[3]:\n",
    "            res.append(eleve[0]+\" \"+eleve[1])\n",
    "    return res\n",
    "            "
   ]
  },
  {
   "cell_type": "code",
   "execution_count": 19,
   "metadata": {},
   "outputs": [
    {
     "output_type": "execute_result",
     "data": {
      "text/plain": [
       "['Kaczmarek Anissa', 'Dupont Kévin']"
      ]
     },
     "metadata": {},
     "execution_count": 19
    }
   ],
   "source": [
    "eleves_specialite(\"mathématiques\",les_eleves)"
   ]
  },
  {
   "cell_type": "markdown",
   "metadata": {},
   "source": [
    "Ici, le fait de numéroter les différentes caractéristiques d'un élève\n",
    "\n",
    "* conduit à un code qui n'est pas clair (quel peut être le sens de `eleve[3]` ?) \n",
    "* n'est pas facilement maintenable : si on décide d'ajouter l'âge de l'élève après son nom et son prénom, il faut réécrire la fonction\n",
    "\n",
    "**définir un dictionnaire**\n",
    "\n",
    "Les dictionnaires permettent de pallier ce problème : ils apportent une généralisation de la notion d'indice. Dans un dictionnaire, on associe à un élément à une **clé**, qui peut être de n'importe quel type. Une **clé** peut être une valeur numérique, comme un indice dans une liste, mais il peut être une chaîne de caractères, un tuple, ...\n",
    "\n",
    "Si on reprend l'exemple de l'élève, on pourrait associer à chaque caractéristique de l'élève le nom de cette caractéristique :\n",
    "\n",
    "* \"nom\" : la chaîne de caractères représentant le nom\n",
    "* \"prenom\" : la chaîne de caractères représentant le prénom\n",
    "* \"classe\" : la chaîne de caractères représentant la classe\n",
    "* \"specs\" : la liste des spécialités choisies\n",
    "* \"moyennes\" : la liste des moyennes de l'élève\n",
    "\n",
    "Un dictionnaire se note:\n",
    "* à l'aide d'accolades,\n",
    "* la clé est séparée de sa valeur par \":\"\n",
    "* entre les différents couples (clé, valeur), on met des virgules\n",
    "\n",
    "On reprend notre exemple"
   ]
  },
  {
   "cell_type": "code",
   "execution_count": 20,
   "metadata": {},
   "outputs": [],
   "source": [
    "anissa = {\"nom\" : \"Kazcmarek\", \"prenom\" : \"Anissa\", \"classe\" : \"1F\", \n",
    "          \n",
    "          \"specs\" : [\"nsi\",\"mathématiques\",\"SVT\"], \n",
    "          \"moyennes\" : [15, 16.8, 15.3]}"
   ]
  },
  {
   "cell_type": "code",
   "execution_count": 21,
   "metadata": {},
   "outputs": [
    {
     "output_type": "execute_result",
     "data": {
      "text/plain": [
       "{'nom': 'Kazcmarek',\n",
       " 'prenom': 'Anissa',\n",
       " 'classe': '1F',\n",
       " 'specs': ['nsi', 'mathématiques', 'SVT'],\n",
       " 'moyennes': [15, 16.8, 15.3]}"
      ]
     },
     "metadata": {},
     "execution_count": 21
    }
   ],
   "source": [
    "anissa"
   ]
  },
  {
   "cell_type": "code",
   "execution_count": 22,
   "metadata": {},
   "outputs": [
    {
     "output_type": "execute_result",
     "data": {
      "text/plain": [
       "'1F'"
      ]
     },
     "metadata": {},
     "execution_count": 22
    }
   ],
   "source": [
    "anissa[\"classe\"]"
   ]
  },
  {
   "cell_type": "code",
   "execution_count": 23,
   "metadata": {},
   "outputs": [
    {
     "output_type": "execute_result",
     "data": {
      "text/plain": [
       "dict"
      ]
     },
     "metadata": {},
     "execution_count": 23
    }
   ],
   "source": [
    "type(anissa)"
   ]
  },
  {
   "cell_type": "code",
   "execution_count": 24,
   "metadata": {},
   "outputs": [
    {
     "output_type": "execute_result",
     "data": {
      "text/plain": [
       "15"
      ]
     },
     "metadata": {},
     "execution_count": 24
    }
   ],
   "source": [
    "anissa[\"moyennes\"][0]"
   ]
  },
  {
   "cell_type": "markdown",
   "metadata": {},
   "source": [
    "Quelques remarques syntaxiques : un dictionnaire est délimité par des accolades, mais quand on accède à une valeur du dictionnaire, on met la clé entre crochets."
   ]
  },
  {
   "cell_type": "code",
   "execution_count": 25,
   "metadata": {},
   "outputs": [],
   "source": [
    "kevin = {}"
   ]
  },
  {
   "cell_type": "code",
   "execution_count": 26,
   "metadata": {},
   "outputs": [],
   "source": [
    "kevin[\"nom\"] = \"Dupont\"   # on créé directement une entrée pour la clé \"nom\" à laquelle on associe \"Dupont\""
   ]
  },
  {
   "cell_type": "code",
   "execution_count": 27,
   "metadata": {},
   "outputs": [],
   "source": [
    "kevin[\"prenom\"] = \"Jason\""
   ]
  },
  {
   "cell_type": "code",
   "execution_count": 28,
   "metadata": {},
   "outputs": [
    {
     "output_type": "execute_result",
     "data": {
      "text/plain": [
       "{'nom': 'Dupont', 'prenom': 'Jason'}"
      ]
     },
     "metadata": {},
     "execution_count": 28
    }
   ],
   "source": [
    "kevin"
   ]
  },
  {
   "cell_type": "code",
   "execution_count": 29,
   "metadata": {},
   "outputs": [],
   "source": [
    "kevin[\"prenom\"] = \"Kévin\"  # on écrase la valeur associée à \"prenom\""
   ]
  },
  {
   "cell_type": "code",
   "execution_count": 30,
   "metadata": {},
   "outputs": [
    {
     "output_type": "execute_result",
     "data": {
      "text/plain": [
       "{'nom': 'Dupont', 'prenom': 'Kévin'}"
      ]
     },
     "metadata": {},
     "execution_count": 30
    }
   ],
   "source": [
    "kevin"
   ]
  },
  {
   "cell_type": "markdown",
   "metadata": {},
   "source": [
    "Dans la variable kevin, précisez la classe de Kévin (1G), ses spécialités (SVT, mathématiques et physique) et ses moyennes dans les spés (8.9, 10.3 et 9.8)"
   ]
  },
  {
   "cell_type": "code",
   "execution_count": 31,
   "metadata": {},
   "outputs": [],
   "source": [
    "kevin[\"classe\"]=\"1G\""
   ]
  },
  {
   "cell_type": "code",
   "execution_count": 32,
   "metadata": {},
   "outputs": [],
   "source": [
    "kevin[\"specs\"]=[\"SVT\",'mathématiques',\"physique\"]"
   ]
  },
  {
   "cell_type": "code",
   "execution_count": 33,
   "metadata": {},
   "outputs": [],
   "source": [
    "kevin[\"moyenne\"]=[8.9,10.3,9.8]"
   ]
  },
  {
   "cell_type": "code",
   "execution_count": 34,
   "metadata": {},
   "outputs": [
    {
     "output_type": "execute_result",
     "data": {
      "text/plain": [
       "{'nom': 'Dupont',\n",
       " 'prenom': 'Kévin',\n",
       " 'classe': '1G',\n",
       " 'specs': ['SVT', 'mathématiques', 'physique'],\n",
       " 'moyenne': [8.9, 10.3, 9.8]}"
      ]
     },
     "metadata": {},
     "execution_count": 34
    }
   ],
   "source": [
    "kevin"
   ]
  },
  {
   "cell_type": "code",
   "execution_count": 35,
   "metadata": {},
   "outputs": [],
   "source": [
    "les_eleves = [anissa, kevin]  ## et sûrement beaucoup d'autres "
   ]
  },
  {
   "cell_type": "markdown",
   "metadata": {},
   "source": [
    "On peut maintenant modifier la fonction `eleves_specialite()`"
   ]
  },
  {
   "cell_type": "code",
   "execution_count": 36,
   "metadata": {},
   "outputs": [],
   "source": [
    "def eleves_specialite(spec, les_elvs) :\n",
    "    \"\"\" retourne la liste des noms et prénoms des élèves qui ont choisi la spécialité spec.\n",
    "    param spec : str - la spécialité\n",
    "    param les_elvs : list(eleve)\n",
    "    avec eleve de type dict : \"nom\": str, \"prenom\": str, \"classe\": str, \"specs\": list(str), \"moyennes\": list(nombre)\n",
    "    return : list(str)\n",
    "    \"\"\"\n",
    "    res = []\n",
    "    for eleve in les_elvs : \n",
    "        if spec in eleve[\"specs\"] :\n",
    "            res.append(eleve[\"nom\"] + \" \" + eleve[\"prenom\"])\n",
    "    return res\n",
    "    "
   ]
  },
  {
   "cell_type": "code",
   "execution_count": 37,
   "metadata": {},
   "outputs": [
    {
     "output_type": "execute_result",
     "data": {
      "text/plain": [
       "['Kazcmarek Anissa']"
      ]
     },
     "metadata": {},
     "execution_count": 37
    }
   ],
   "source": [
    "eleves_specialite(\"nsi\",les_eleves)"
   ]
  },
  {
   "cell_type": "markdown",
   "metadata": {},
   "source": [
    "**Dans quels cas utilise-t-on un dictionnaire ?**\n",
    "\n",
    "* Comme dans l'exemple des élèves, lorsqu'on veut manipuler des données qui ont toutes une même structure, avec des caractéristiques de nature différentes. On est capable pour ces données de fixer à l'avance quelles seront les clés. Les dictionnaires utilisés dans ce cadre se rapprochent de la notion d'objet (dans la programmation objet);\n",
    "* Pour manipuler des données qui associent à un élément d'un certain type A une valeur d'un certain type B. Par exemple, on veut conserver les notes d'un contrôle : on associe une note à un élève ;"
   ]
  },
  {
   "cell_type": "code",
   "execution_count": 38,
   "metadata": {},
   "outputs": [],
   "source": [
    "interro = {\"Kévin\": 12, \"Anissa\": 15, \"Mohamed\": 12, \"Sophie\": 8}"
   ]
  },
  {
   "cell_type": "markdown",
   "metadata": {},
   "source": [
    "* Pour agréger dans une seule variable de nombreux paramètres qu'on a souvent besoin de transmettre ensemble à des fonctions."
   ]
  },
  {
   "cell_type": "markdown",
   "metadata": {},
   "source": [
    "# Opérations sur un dictionnaire\n",
    "\n",
    "## Construire un dictionnaire et modifier un dictionnaire\n",
    "\n",
    "On peut ajouter des associations *(clé,valeur)*, modifier une *valeur*, supprimer une *clé*, ... "
   ]
  },
  {
   "cell_type": "code",
   "execution_count": 39,
   "metadata": {},
   "outputs": [],
   "source": [
    "mon_dico = {} # initialisation dictionnaire vide"
   ]
  },
  {
   "cell_type": "code",
   "execution_count": 40,
   "metadata": {},
   "outputs": [],
   "source": [
    "mon_dico = {\"nom\": \"Durant\", \"prenom\": \"Jean\"} # initialisation  "
   ]
  },
  {
   "cell_type": "code",
   "execution_count": 41,
   "metadata": {},
   "outputs": [],
   "source": [
    "mon_dico[\"age\"] = 23  # créé une clé \"age\" associée à la valeur 23 - mon_dico doit déjà exister"
   ]
  },
  {
   "cell_type": "code",
   "execution_count": 42,
   "metadata": {},
   "outputs": [],
   "source": [
    "mon_dico[\"age\"] = 18  # on modifie la valeur associée à \"age\""
   ]
  },
  {
   "cell_type": "code",
   "execution_count": 43,
   "metadata": {},
   "outputs": [
    {
     "output_type": "execute_result",
     "data": {
      "text/plain": [
       "{'nom': 'Durant', 'prenom': 'Jean', 'age': 18}"
      ]
     },
     "metadata": {},
     "execution_count": 43
    }
   ],
   "source": [
    "mon_dico"
   ]
  },
  {
   "cell_type": "code",
   "execution_count": 44,
   "metadata": {},
   "outputs": [],
   "source": [
    "del(mon_dico[\"age\"])  # supprime la clé \"age\", supprime donc le couple \"(clé,valeur)\""
   ]
  },
  {
   "cell_type": "code",
   "execution_count": 45,
   "metadata": {},
   "outputs": [
    {
     "output_type": "execute_result",
     "data": {
      "text/plain": [
       "{'nom': 'Durant', 'prenom': 'Jean'}"
      ]
     },
     "metadata": {},
     "execution_count": 45
    }
   ],
   "source": [
    "mon_dico"
   ]
  },
  {
   "cell_type": "markdown",
   "metadata": {},
   "source": [
    "## Éléments d'un dictionnaire, taille d'un dictionnaire\n",
    "\n",
    "Un dictionnaire est un ensemble de couples *(clé, valeur)*. Chaque *clé* ne peut apparaître qu'une seule fois dans un dictionnaire (chaque *clé* n'est associée qu'à une seule *valeur*). Par contre, une même *valeur* peut être associée à plusieurs *clés* : on peut avoir 18 ans, et aussi 18 de moyenne : "
   ]
  },
  {
   "cell_type": "code",
   "execution_count": 46,
   "metadata": {},
   "outputs": [],
   "source": [
    "mon_dico[\"moyenne\"] = 18"
   ]
  },
  {
   "cell_type": "code",
   "execution_count": 47,
   "metadata": {},
   "outputs": [],
   "source": [
    "mon_dico[\"age\"] = 18"
   ]
  },
  {
   "cell_type": "code",
   "execution_count": 48,
   "metadata": {},
   "outputs": [
    {
     "output_type": "execute_result",
     "data": {
      "text/plain": [
       "{'nom': 'Durant', 'prenom': 'Jean', 'moyenne': 18, 'age': 18}"
      ]
     },
     "metadata": {},
     "execution_count": 48
    }
   ],
   "source": [
    "mon_dico"
   ]
  },
  {
   "cell_type": "markdown",
   "metadata": {},
   "source": [
    "La taille d'un dictionnaire est donc le nombre de couples *(clé, valeur)* qui est égal au nombre de *clés*."
   ]
  },
  {
   "cell_type": "code",
   "execution_count": 49,
   "metadata": {},
   "outputs": [
    {
     "output_type": "execute_result",
     "data": {
      "text/plain": [
       "4"
      ]
     },
     "metadata": {},
     "execution_count": 49
    }
   ],
   "source": [
    "len(mon_dico)"
   ]
  },
  {
   "cell_type": "markdown",
   "metadata": {},
   "source": [
    "## Parcourir un dictionnaire\n",
    "\n",
    "On peut parcourir toutes les clés d'un dictionnaire, ou tous les couples *(clé, valeur)*, ou toutes les valeurs d'un dictionnaire. C'est particulièrement utile quand on manipule un dictionnaire dont on ne connaît pas à l'avance les clés.\n",
    "\n",
    "La fonction `keys()` retourne un itérateur (comme la fonction `range()`) sur les clés, la fonction `values()` retourne un itérateur sur les valeurs, la fonction `items()` retourne un itérateur sur les couples *(clé, valeur)*."
   ]
  },
  {
   "cell_type": "code",
   "execution_count": 2,
   "metadata": {},
   "outputs": [],
   "source": [
    "interro = {\"Kévin\": 12, \"Anissa\": 15, \"Mohamed\": 12, \"Sophie\": 8}"
   ]
  },
  {
   "cell_type": "code",
   "execution_count": 3,
   "metadata": {},
   "outputs": [
    {
     "output_type": "stream",
     "name": "stdout",
     "text": [
      "La moyenne est de 11.75\n"
     ]
    }
   ],
   "source": [
    "# Calculer la moyenne des notes de l'interro en itérant sur les clés\n",
    "if len(interro) > 0 :\n",
    "    som = 0\n",
    "    for elv in interro.keys() :\n",
    "        som += interro[elv]\n",
    "    print(\"La moyenne est de\",som/len(interro))"
   ]
  },
  {
   "cell_type": "code",
   "execution_count": 4,
   "metadata": {},
   "outputs": [
    {
     "output_type": "stream",
     "name": "stdout",
     "text": [
      "La moyenne est de 11.75\n"
     ]
    }
   ],
   "source": [
    "# Calculer la moyenne des notes de l'interro en itérant sur les valeurs\n",
    "if len(interro) > 0 :\n",
    "    som = 0\n",
    "    for note in interro.values() :\n",
    "        som += note\n",
    "    print(\"La moyenne est de\",som/len(interro))"
   ]
  },
  {
   "cell_type": "code",
   "execution_count": 5,
   "metadata": {},
   "outputs": [
    {
     "output_type": "error",
     "ename": "NameError",
     "evalue": "name 'item' is not defined",
     "traceback": [
      "\u001b[1;31m---------------------------------------------------------------------------\u001b[0m",
      "\u001b[1;31mNameError\u001b[0m                                 Traceback (most recent call last)",
      "\u001b[1;32m<ipython-input-5-89677227806b>\u001b[0m in \u001b[0;36m<module>\u001b[1;34m\u001b[0m\n\u001b[0;32m      5\u001b[0m     \u001b[0mmeilleurEleve\u001b[0m \u001b[1;33m=\u001b[0m \u001b[1;34m\"\"\u001b[0m\u001b[1;33m\u001b[0m\u001b[1;33m\u001b[0m\u001b[0m\n\u001b[0;32m      6\u001b[0m     \u001b[1;32mfor\u001b[0m \u001b[0melv\u001b[0m\u001b[1;33m,\u001b[0m\u001b[0mnote\u001b[0m \u001b[1;32min\u001b[0m \u001b[0minterro\u001b[0m\u001b[1;33m.\u001b[0m\u001b[0mitems\u001b[0m\u001b[1;33m(\u001b[0m\u001b[1;33m)\u001b[0m\u001b[1;33m:\u001b[0m\u001b[1;33m\u001b[0m\u001b[1;33m\u001b[0m\u001b[0m\n\u001b[1;32m----> 7\u001b[1;33m         \u001b[1;32mif\u001b[0m \u001b[0mitem\u001b[0m \u001b[1;33m>\u001b[0m \u001b[0mmeilleurNote\u001b[0m\u001b[1;33m:\u001b[0m\u001b[1;33m\u001b[0m\u001b[1;33m\u001b[0m\u001b[0m\n\u001b[0m\u001b[0;32m      8\u001b[0m             \u001b[0mmeilleurNote\u001b[0m \u001b[1;33m=\u001b[0m \u001b[0mnote\u001b[0m\u001b[1;33m\u001b[0m\u001b[1;33m\u001b[0m\u001b[0m\n\u001b[0;32m      9\u001b[0m             \u001b[0mmeilleurEleve\u001b[0m \u001b[1;33m=\u001b[0m \u001b[0melv\u001b[0m\u001b[1;33m\u001b[0m\u001b[1;33m\u001b[0m\u001b[0m\n",
      "\u001b[1;31mNameError\u001b[0m: name 'item' is not defined"
     ]
    }
   ],
   "source": [
    "# Quel est le nom de l'élève qui a la meilleure note (cas simple : on suppose qu'il n'y a qu'un premier de la classe)\n",
    "# et quelle est sa note\n",
    "if len(interro) > 0:\n",
    "    meilleurNote = 0\n",
    "    meilleurEleve = \"\"\n",
    "    for elv,note in interro.items():\n",
    "        if note > meilleurNote:\n",
    "            meilleurNote = note\n",
    "            meilleurEleve = elv\n",
    "    print(f\"le meilleur eleve est {meilleurEleve} avec une note de {meilleurNote}\")\n"
   ]
  },
  {
   "cell_type": "markdown",
   "metadata": {},
   "source": [
    "## Tester si une clé existe déjà\n",
    "\n",
    "C'est l'opérateur `in` sur l'itérateur `keys()` qui nous donne l'information :"
   ]
  },
  {
   "cell_type": "code",
   "execution_count": 54,
   "metadata": {},
   "outputs": [
    {
     "output_type": "execute_result",
     "data": {
      "text/plain": [
       "True"
      ]
     },
     "metadata": {},
     "execution_count": 54
    }
   ],
   "source": [
    "'Anissa' in interro.keys()"
   ]
  },
  {
   "cell_type": "code",
   "execution_count": 55,
   "metadata": {},
   "outputs": [
    {
     "output_type": "execute_result",
     "data": {
      "text/plain": [
       "False"
      ]
     },
     "metadata": {},
     "execution_count": 55
    }
   ],
   "source": [
    "'Benjamin' in interro.keys()"
   ]
  },
  {
   "cell_type": "markdown",
   "metadata": {},
   "source": [
    "## Copier un dictionnaire\n",
    "\n",
    "Les dictionnaires étant une structure de données modifiable (muable, mutable), c'est la méthode `copy()` qui permet de faire une copie d'un dictionnaire."
   ]
  },
  {
   "cell_type": "code",
   "execution_count": 56,
   "metadata": {},
   "outputs": [],
   "source": [
    "interro2 = interro.copy()"
   ]
  },
  {
   "cell_type": "code",
   "execution_count": 57,
   "metadata": {},
   "outputs": [
    {
     "output_type": "execute_result",
     "data": {
      "text/plain": [
       "{'Kévin': 12, 'Anissa': 15, 'Mohamed': 12, 'Sophie': 8}"
      ]
     },
     "metadata": {},
     "execution_count": 57
    }
   ],
   "source": [
    "interro"
   ]
  },
  {
   "cell_type": "code",
   "execution_count": 58,
   "metadata": {},
   "outputs": [
    {
     "output_type": "execute_result",
     "data": {
      "text/plain": [
       "{'Kévin': 12, 'Anissa': 15, 'Mohamed': 12, 'Sophie': 8}"
      ]
     },
     "metadata": {},
     "execution_count": 58
    }
   ],
   "source": [
    "interro2"
   ]
  },
  {
   "cell_type": "code",
   "execution_count": 59,
   "metadata": {},
   "outputs": [],
   "source": [
    "interro2['Sophie'] = 18"
   ]
  },
  {
   "cell_type": "code",
   "execution_count": 60,
   "metadata": {},
   "outputs": [
    {
     "output_type": "execute_result",
     "data": {
      "text/plain": [
       "{'Kévin': 12, 'Anissa': 15, 'Mohamed': 12, 'Sophie': 18}"
      ]
     },
     "metadata": {},
     "execution_count": 60
    }
   ],
   "source": [
    "interro2"
   ]
  },
  {
   "cell_type": "code",
   "execution_count": 61,
   "metadata": {},
   "outputs": [
    {
     "output_type": "execute_result",
     "data": {
      "text/plain": [
       "{'Kévin': 12, 'Anissa': 15, 'Mohamed': 12, 'Sophie': 8}"
      ]
     },
     "metadata": {},
     "execution_count": 61
    }
   ],
   "source": [
    "interro"
   ]
  },
  {
   "cell_type": "markdown",
   "metadata": {},
   "source": [
    "Attention, ce n'est pas une **copie profonde** !"
   ]
  },
  {
   "cell_type": "code",
   "execution_count": 62,
   "metadata": {},
   "outputs": [
    {
     "output_type": "execute_result",
     "data": {
      "text/plain": [
       "{'nom': 'Kazcmarek',\n",
       " 'prenom': 'Anissa',\n",
       " 'classe': '1F',\n",
       " 'specs': ['nsi', 'mathématiques', 'SVT'],\n",
       " 'moyennes': [15, 16.8, 15.3]}"
      ]
     },
     "metadata": {},
     "execution_count": 62
    }
   ],
   "source": [
    "anissa"
   ]
  },
  {
   "cell_type": "code",
   "execution_count": 63,
   "metadata": {},
   "outputs": [],
   "source": [
    "anissa2 = anissa.copy()"
   ]
  },
  {
   "cell_type": "code",
   "execution_count": 64,
   "metadata": {},
   "outputs": [],
   "source": [
    "anissa2[\"moyennes\"][0] += 2"
   ]
  },
  {
   "cell_type": "code",
   "execution_count": 65,
   "metadata": {},
   "outputs": [
    {
     "output_type": "execute_result",
     "data": {
      "text/plain": [
       "{'nom': 'Kazcmarek',\n",
       " 'prenom': 'Anissa',\n",
       " 'classe': '1F',\n",
       " 'specs': ['nsi', 'mathématiques', 'SVT'],\n",
       " 'moyennes': [17, 16.8, 15.3]}"
      ]
     },
     "metadata": {},
     "execution_count": 65
    }
   ],
   "source": [
    "anissa2"
   ]
  },
  {
   "cell_type": "code",
   "execution_count": 66,
   "metadata": {},
   "outputs": [
    {
     "output_type": "execute_result",
     "data": {
      "text/plain": [
       "{'nom': 'Kazcmarek',\n",
       " 'prenom': 'Anissa',\n",
       " 'classe': '1F',\n",
       " 'specs': ['nsi', 'mathématiques', 'SVT'],\n",
       " 'moyennes': [17, 16.8, 15.3]}"
      ]
     },
     "metadata": {},
     "execution_count": 66
    }
   ],
   "source": [
    "anissa"
   ]
  },
  {
   "cell_type": "markdown",
   "metadata": {},
   "source": [
    "## Fusionner deux dictionnaires\n",
    "\n",
    "La méthode `update()` permet de fusionner, i.e. d'ajouter tous les couples *(clé,valeur)* d'un dictionnaire à un autre."
   ]
  },
  {
   "cell_type": "code",
   "execution_count": 67,
   "metadata": {},
   "outputs": [],
   "source": [
    "interro3 = {'Robert': 5, 'Marcelle': 15}"
   ]
  },
  {
   "cell_type": "code",
   "execution_count": 68,
   "metadata": {},
   "outputs": [],
   "source": [
    "interro.update(interro3)"
   ]
  },
  {
   "cell_type": "code",
   "execution_count": 69,
   "metadata": {},
   "outputs": [
    {
     "output_type": "execute_result",
     "data": {
      "text/plain": [
       "{'Kévin': 12,\n",
       " 'Anissa': 15,\n",
       " 'Mohamed': 12,\n",
       " 'Sophie': 8,\n",
       " 'Robert': 5,\n",
       " 'Marcelle': 15}"
      ]
     },
     "metadata": {},
     "execution_count": 69
    }
   ],
   "source": [
    "interro"
   ]
  },
  {
   "cell_type": "code",
   "execution_count": 70,
   "metadata": {},
   "outputs": [
    {
     "output_type": "execute_result",
     "data": {
      "text/plain": [
       "{'Robert': 5, 'Marcelle': 15}"
      ]
     },
     "metadata": {},
     "execution_count": 70
    }
   ],
   "source": [
    "interro3"
   ]
  },
  {
   "source": [
    "## créer un dictionnaire par compréhension\n",
    "Comme pour les listes, il est possible de créer un dictionnaire par compréhension en utilisant le \"zippage\".\n"
   ],
   "cell_type": "markdown",
   "metadata": {}
  },
  {
   "source": [
    "simpson=[\"Homer\", \"Marge\", \"Bart\", \"Lisa\"]\n",
    "famille=[\"père\", \"mère\", \"fils\", \"fille\"]\n",
    "famille_simpson= zip(famille,simpson)\n",
    "famille_simpson= {clef : valeur for clef, valeur in famille_simpson}\n",
    "famille_simpson"
   ],
   "cell_type": "code",
   "metadata": {},
   "execution_count": 75,
   "outputs": [
    {
     "output_type": "execute_result",
     "data": {
      "text/plain": [
       "{'père': 'Homer', 'mère': 'Marge', 'fils': 'Bart', 'fille': 'Lisa'}"
      ]
     },
     "metadata": {},
     "execution_count": 75
    }
   ]
  },
  {
   "cell_type": "code",
   "execution_count": null,
   "metadata": {},
   "outputs": [],
   "source": []
  }
 ],
 "metadata": {
  "kernelspec": {
   "name": "python3",
   "display_name": "Python 3.8.3 32-bit",
   "metadata": {
    "interpreter": {
     "hash": "1de48a729504d22394ae57c1685fc915da052238e1e35186e5d340c5c152e7cd"
    }
   }
  },
  "language_info": {
   "codemirror_mode": {
    "name": "ipython",
    "version": 3
   },
   "file_extension": ".py",
   "mimetype": "text/x-python",
   "name": "python",
   "nbconvert_exporter": "python",
   "pygments_lexer": "ipython3",
   "version": "3.8.3-final"
  }
 },
 "nbformat": 4,
 "nbformat_minor": 2
}