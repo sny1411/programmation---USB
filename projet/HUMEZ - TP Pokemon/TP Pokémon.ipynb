{
 "cells": [
  {
   "cell_type": "markdown",
   "id": "living-atlantic",
   "metadata": {},
   "source": [
    "# Ouverture du fichier"
   ]
  },
  {
   "cell_type": "markdown",
   "id": "fantastic-eclipse",
   "metadata": {},
   "source": [
    "1. Créer un fichier python table_csv.py"
   ]
  },
  {
   "cell_type": "markdown",
   "id": "warming-taylor",
   "metadata": {},
   "source": [
    "2. Avec python, importer le fichier pokemon_stats_1.csv:"
   ]
  },
  {
   "cell_type": "code",
   "execution_count": 4,
   "id": "british-portfolio",
   "metadata": {},
   "outputs": [],
   "source": [
    "import csv\n",
    "fichier = open('pokemon_stats_1.csv', 'r', newline='', encoding='utf-8')\n",
    "table_pokemon_1 = csv.reader(fichier, delimiter=';')\n",
    "table_pokemon_1 = [ligne for ligne in table_pokemon_1]\n",
    "fichier.close()"
   ]
  },
  {
   "cell_type": "markdown",
   "id": "fifty-adaptation",
   "metadata": {},
   "source": [
    "3. A quoi correspond cette collection? Identifier les descripteurs."
   ]
  },
  {
   "cell_type": "markdown",
   "id": "vulnerable-rehabilitation",
   "metadata": {},
   "source": [
    "4. Séparer la liste des descipteurs de la table et la liste des objets dans deux variables distinctes **descripteurs_pokemon_1** et **objets_pokemon_1**.\n",
    "Comment avez-vous fait?"
   ]
  },
  {
   "cell_type": "markdown",
   "id": "current-trial",
   "metadata": {},
   "source": [
    "5. Combien d'objets la collection contient-elle? Comment avez vous obtenu la valeur?"
   ]
  },
  {
   "cell_type": "markdown",
   "id": "worth-tunisia",
   "metadata": {},
   "source": [
    "# Recherches dans une table"
   ]
  },
  {
   "cell_type": "markdown",
   "id": "likely-processor",
   "metadata": {},
   "source": [
    "1. Extraire le nom et l'attaque du pokemon 341."
   ]
  },
  {
   "cell_type": "markdown",
   "id": "particular-cycling",
   "metadata": {},
   "source": [
    "2. Retrouver l'indice de l'objet de nom **Toxicroak** grâce à la boucle ci dessous:"
   ]
  },
  {
   "cell_type": "code",
   "execution_count": null,
   "id": "addressed-colon",
   "metadata": {},
   "outputs": [],
   "source": [
    "indices_objets = [i for i in range(len(objets_pokemon_1)) if objets_pokemon_1[i][0] == 'Toxicroak']"
   ]
  },
  {
   "cell_type": "markdown",
   "id": "spatial-joyce",
   "metadata": {},
   "source": [
    "3. Comment fonctionne-t-elle?"
   ]
  },
  {
   "cell_type": "markdown",
   "id": "exceptional-balloon",
   "metadata": {},
   "source": [
    "4. Vérifier que l'indice trouvé correspond bien à **Toxicroak**"
   ]
  },
  {
   "cell_type": "markdown",
   "id": "actual-tribune",
   "metadata": {},
   "source": [
    "5. Retrouver le pokémon **Lairon**. Le vérifier. Comment avez-vous fait?"
   ]
  },
  {
   "cell_type": "markdown",
   "id": "million-invite",
   "metadata": {},
   "source": [
    "6. Trouver tous les pokémons classés **Dragon Pokémon**. Les vérifier. Comment avez-vous fait?"
   ]
  },
  {
   "cell_type": "markdown",
   "id": "executive-hindu",
   "metadata": {},
   "source": [
    "7. Ecrire une boucle par compréhension qui fournit la liste des objets nommée **liste_objets**, correspondant à une liste d'indices fournie sous le nom **indices_objets**.\n",
    "\n",
    "  La tester avec **indices_objets = [12,74,123,253,388]**"
   ]
  },
  {
   "cell_type": "markdown",
   "id": "operational-ozone",
   "metadata": {},
   "source": [
    "8. Trouver tous les pokémons qui ont une attaques supérieures ou égales à **70**. Combien sont-ils?"
   ]
  },
  {
   "cell_type": "markdown",
   "id": "optical-uganda",
   "metadata": {},
   "source": [
    "9. Existe-t-il des pokémons dont l'attaque et la défense sont supérieurs à **100**? Si oui, combien sont-ils?"
   ]
  },
  {
   "cell_type": "markdown",
   "id": "broadband-toddler",
   "metadata": {},
   "source": [
    "# Premiers calculs dans une table"
   ]
  },
  {
   "cell_type": "markdown",
   "id": "exact-america",
   "metadata": {},
   "source": [
    "1. A l'aide d'une boucle, montrer que la valeur moyenne de l'attaque de tous les pokémons est de **77.24**."
   ]
  },
  {
   "cell_type": "markdown",
   "id": "secondary-period",
   "metadata": {},
   "source": [
    "2. Faire de même avec la défense qui est de **72.32**"
   ]
  },
  {
   "cell_type": "markdown",
   "id": "ecological-sucking",
   "metadata": {},
   "source": [
    "3. Ecrire en python l'algorithme suivant qui recherche l'objet d'attaque maximale. Noter le code et les valeurs obtenues. Donner son nom."
   ]
  },
  {
   "cell_type": "markdown",
   "id": "gentle-compromise",
   "metadata": {},
   "source": [
    "**indice_max initialisé à 0**\n",
    "\n",
    "**valeur_max initialisé à l’attaque de l’objet d’indice 0**\n",
    "\n",
    "\n",
    "**pour i allant de 1 à l’indice du dernier objet :**\n",
    "    \n",
    "    si l’attaque de l’objet i est strictement supérieure à valeur_max :\n",
    "    \n",
    "        indice_max prend la valeur i\n",
    "    \n",
    "        valeur_max prend la valeur de l’attaque de l’objet i\n",
    "    \n",
    "**afficher indice_max et valeur_max**\n"
   ]
  },
  {
   "cell_type": "markdown",
   "id": "disabled-orbit",
   "metadata": {},
   "source": [
    "4. Rechercher le pokémon d'attaque minimale."
   ]
  },
  {
   "cell_type": "markdown",
   "id": "electronic-stranger",
   "metadata": {},
   "source": [
    "5. Trouver les mêmes informations pour le descripteur **défense**"
   ]
  },
  {
   "cell_type": "markdown",
   "id": "weekly-description",
   "metadata": {},
   "source": [
    "6. Quel est le pokémon qui a la meilleure moyenne attaque-défense? Comment avez-vous fait?"
   ]
  },
  {
   "cell_type": "markdown",
   "id": "psychological-exhibition",
   "metadata": {},
   "source": [
    "# Tris dans une table"
   ]
  },
  {
   "cell_type": "markdown",
   "id": "retained-surface",
   "metadata": {},
   "source": [
    "**Sorted()** est la fonction python qui perlet de trier des données. Son algorithme de tri est l'un des plus efficaces.\n",
    "\n",
    "1. Tester les deux lignes de codes ci dessous. Qu'obtient-on?"
   ]
  },
  {
   "cell_type": "code",
   "execution_count": null,
   "id": "defined-treasure",
   "metadata": {},
   "outputs": [],
   "source": [
    "liste_triee = sorted(objets_pokemon_1)\n",
    "print(liste_triee)"
   ]
  },
  {
   "cell_type": "markdown",
   "id": "statewide-elizabeth",
   "metadata": {},
   "source": [
    "Par défaut, **sorted()** va trier par ordre croissant les élements d'une liste, en prenant comme critère le premier élément de chaque élément à trier, puis le deuxième si nécessaire, ... C’est pour cela que le\n",
    "trie a été effectué sur les noms des Pokémons. Pour changer le critère, il faut le définir dans une\n",
    "fonction à part et fournir son nom comme clé de tri. Pour cela, on crée une fonction **clé de tri**."
   ]
  },
  {
   "cell_type": "code",
   "execution_count": null,
   "id": "wound-tunnel",
   "metadata": {},
   "outputs": [],
   "source": [
    "def fonction_cle_de_tri(liste):\n",
    "    return int(liste[0])\n",
    "liste_triee = sorted(objets_pokemon_1, key=fonction_cle_de_tri)\n",
    "print(liste_triee)"
   ]
  },
  {
   "cell_type": "markdown",
   "id": "medieval-cutting",
   "metadata": {},
   "source": [
    "On peut ajouter l'option **reverse=False** ou **True** dans **sorted()** pour trier par ordre croissant ou décroissant."
   ]
  },
  {
   "cell_type": "markdown",
   "id": "increased-bronze",
   "metadata": {},
   "source": [
    "2. Utiliser cette méthode pour trier les objets par ordre décroissant de leur attaque."
   ]
  },
  {
   "cell_type": "markdown",
   "id": "special-bathroom",
   "metadata": {},
   "source": [
    "3. Quels sont les 3 meilleurs pokémons défenseurs? Parmi eux, y en a-t-il des bons en attaque?"
   ]
  },
  {
   "cell_type": "markdown",
   "id": "coated-stomach",
   "metadata": {},
   "source": [
    "4. Dans la réponse précédente, quels sont les éléments qui relèvent d'un donnée et quels sont les éléments qui rélèvent d'une information? Justifier."
   ]
  },
  {
   "cell_type": "markdown",
   "id": "molecular-statement",
   "metadata": {},
   "source": [
    "5. Les pokémons qui ont la meilleure attaque-défense font-ils parti des meilleurs attaquants ou des meilleurs défenseurs? Justifier."
   ]
  },
  {
   "cell_type": "markdown",
   "id": "bright-optics",
   "metadata": {},
   "source": [
    "# Fusion de tables ayant les mêmes descripteurs, recherche des doublons"
   ]
  },
  {
   "cell_type": "markdown",
   "id": "exciting-merit",
   "metadata": {},
   "source": [
    "Lorsqu'on veut fusionner deux tables, elles auront peut-être des objets en communs. On parle de **doublons**, qu'il faudra donc supprimer."
   ]
  },
  {
   "cell_type": "markdown",
   "id": "beginning-conditions",
   "metadata": {},
   "source": [
    "1. Dans un fichier **fusion_csv.py**, importer les deux tables **pokemon_stats_2_a.csv** et\n",
    "  **pokemon_stats_2_b.csv** dans deux variables **objets_pokemon_2_a** et **objets_pokemon_2_b**."
   ]
  },
  {
   "cell_type": "markdown",
   "id": "american-guarantee",
   "metadata": {},
   "source": [
    "2. Séparer pour chaque table la liste des descripteurs et les objets."
   ]
  },
  {
   "cell_type": "markdown",
   "id": "fossil-independence",
   "metadata": {},
   "source": [
    "3. Vérifier que les deux tables ont les mêmes descripteurs.\n"
   ]
  },
  {
   "cell_type": "markdown",
   "id": "republican-berkeley",
   "metadata": {},
   "source": [
    "Lorsque deux tables ont les mêmes descripteurs. On peut les fusionner par concaténation. Lors de\n",
    "cette opération il faut aussi vérifier si les descripteurs seront pris en compte dans le même ordre.\n"
   ]
  },
  {
   "cell_type": "markdown",
   "id": "parental-probability",
   "metadata": {},
   "source": [
    "4. Le vérifier."
   ]
  },
  {
   "cell_type": "markdown",
   "id": "prerequisite-chase",
   "metadata": {},
   "source": [
    "5.  Comment concaténer les deux listes d’objets ? Le résultat sera stocké dans la liste\n",
    " **objets_pokemon_2**. Le faire et expliquer."
   ]
  },
  {
   "cell_type": "markdown",
   "id": "broadband-border",
   "metadata": {},
   "source": [
    "6. Vérifier que les longueurs des listes correspondent. Expliquer la démarche."
   ]
  },
  {
   "cell_type": "markdown",
   "id": "elder-freedom",
   "metadata": {},
   "source": [
    "Une fois fusionnée, il peut y avoir des doublons dans la liste. Pour le vérifier on peut prendre les\n",
    "objets les uns après les autres et les comparer à tous les objets suivants. S’il y a égalité, il y a\n",
    "doublon."
   ]
  },
  {
   "cell_type": "markdown",
   "id": "unavailable-grace",
   "metadata": {},
   "source": [
    "7. Programmer en Python l’algorithme ci-dessous et l’appliquer pour vérifier qu’il y a bien des\n",
    "doublons dans la liste."
   ]
  },
  {
   "cell_type": "markdown",
   "id": "surprised-salon",
   "metadata": {},
   "source": [
    "**doublons initialisé à faux**\n",
    "\n",
    "**i initialisé à 0**\n",
    "\n",
    "**tant que doublons n’est pas vrai et i est inférieur à l’indice du dernier objet:**\n",
    "\n",
    "    pour j allant de i+1 au dernier objet:\n",
    "    \n",
    "        si l’objet j est égal à l’objet i :\n",
    "        \n",
    "            doublons prend la valeur vrai\n",
    "            \n",
    "    incrémenter i\n",
    "    \n",
    "**afficher doublons**\n"
   ]
  },
  {
   "cell_type": "markdown",
   "id": "centered-physiology",
   "metadata": {},
   "source": [
    "8. Quel est le nom du premier Pokémon en double ? Comment\n",
    "avez-vous fait ?"
   ]
  },
  {
   "cell_type": "markdown",
   "id": "macro-entrance",
   "metadata": {},
   "source": [
    "Si des doublons ont été identifiés, il faut nettoyer la liste. La\n",
    "procédure est encore plus simple que celle pour détecter des\n",
    "doublons. On peut même l’appliquer systématiquement sans tester\n",
    "la présence des doublons. Ainsi si la liste n’en comporte pas, il n’y\n",
    "aura aucune modification, sinon, les doublons seront pris en compte. L’algorithme est le suivant:"
   ]
  },
  {
   "cell_type": "markdown",
   "id": "affected-jordan",
   "metadata": {},
   "source": [
    "* étape 1: On crée une liste vide, par exemple **objets_pokemon_2_sans_doublons**.\n",
    "* étape 2: On prend les objets de la liste avec **doublons objets_pokemon_2** les uns après les autres.\n",
    "* étape 3: Si l’objet n’est pas dans la nouvelle liste **objets_pokemon_2_sans_doublons**, l’ajouter."
   ]
  },
  {
   "cell_type": "markdown",
   "id": "suspected-columbia",
   "metadata": {},
   "source": [
    "9. Coder cet algorithme et vérifier que vous obtenez une liste de 507 objets."
   ]
  },
  {
   "cell_type": "markdown",
   "id": "romance-trinity",
   "metadata": {},
   "source": [
    "10. Exporter la table obtenue dans le fichier **pokemon_stats_2.csv**. On peut travailler ligne par\n",
    "ligne avec la méthode **.writerow()** du module csv ou sur l’ensemble des objets avec la méthode **.writerows()**."
   ]
  },
  {
   "cell_type": "markdown",
   "id": "ordered-trinity",
   "metadata": {},
   "source": [
    "# Fusion de tables ayant des descripteurs différents"
   ]
  },
  {
   "cell_type": "markdown",
   "id": "irish-french",
   "metadata": {},
   "source": [
    "Lorsque que l’on veut fusionner deux tables, en plus d’avoir des doublons, elles peuvent avoir des\n",
    "descripteurs en commun et d’autres non."
   ]
  },
  {
   "cell_type": "markdown",
   "id": "framed-strip",
   "metadata": {},
   "source": [
    "1. Ouvrir les deux tables **pokemon_stats_1.csv** et **pokemon_stats_2.csv** dans un tableur. Attention\n",
    "à bien sélectionner le point virgule uniquement comme séparateur."
   ]
  },
  {
   "cell_type": "markdown",
   "id": "floppy-passing",
   "metadata": {},
   "source": [
    "2. Ont-elles des descripteurs en commun ou non ? Détailler."
   ]
  },
  {
   "cell_type": "markdown",
   "id": "thrown-cutting",
   "metadata": {},
   "source": [
    "3. Quel est le descripteur permettant d’identifier de manière unique un objet, dans ces deux\n",
    "collections qui sont en relation ? Ce descripteur est appelé clé primaire dans une base de donnée\n",
    "relationnelle."
   ]
  },
  {
   "cell_type": "markdown",
   "id": "daily-australia",
   "metadata": {},
   "source": [
    "4. Que doit-on faire pour fusionner les deux tables ? Le faire dans le tableur."
   ]
  },
  {
   "cell_type": "markdown",
   "id": "blind-neighbor",
   "metadata": {},
   "source": [
    "5. Fusionner les deux tables dans un programme python et exporter la table avec comme nom de fichier **pokemon_stats_3.csv**."
   ]
  },
  {
   "cell_type": "code",
   "execution_count": null,
   "id": "cutting-messaging",
   "metadata": {},
   "outputs": [],
   "source": []
  }
 ],
 "metadata": {
  "kernelspec": {
   "display_name": "Python 3.8.6 64-bit",
   "language": "python",
   "name": "python38664bited8b1508e032487db71589830bf4de14"
  },
  "language_info": {
   "codemirror_mode": {
    "name": "ipython",
    "version": 3
   },
   "file_extension": ".py",
   "mimetype": "text/x-python",
   "name": "python",
   "nbconvert_exporter": "python",
   "pygments_lexer": "ipython3",
   "version": "3.8.6"
  }
 },
 "nbformat": 4,
 "nbformat_minor": 5
}
